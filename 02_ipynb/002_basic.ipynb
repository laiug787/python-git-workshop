{
 "cells": [
  {
   "cell_type": "markdown",
   "metadata": {},
   "source": [
    "1. データ型と変数"
   ]
  },
  {
   "cell_type": "code",
   "execution_count": null,
   "metadata": {},
   "outputs": [],
   "source": [
    "# 変数の基本\n",
    "name = \"田中\"       # 文字列\n",
    "age = 25           # 整数\n",
    "height = 1.75      # 浮動小数点\n",
    "is_student = True  # ブール値(真偽値)\n",
    "is_teacher = False\n",
    "\n",
    "# 型の確認\n",
    "print(type(name))  # <class 'str'>"
   ]
  },
  {
   "cell_type": "markdown",
   "metadata": {},
   "source": [
    "2. 算術演算子"
   ]
  },
  {
   "cell_type": "code",
   "execution_count": null,
   "metadata": {},
   "outputs": [],
   "source": [
    "a = 5\n",
    "b = 3\n",
    "\n",
    "# 加算\n",
    "print(a + b)  # 出力: 8\n",
    "# 減算\n",
    "print(a - b)  # 出力: 2\n",
    "# 乗算\n",
    "print(a * b)  # 出力: 15\n",
    "# 除算\n",
    "print(a / b)  # 出力: 1.6666666666666667\n",
    "# 整数除算\n",
    "print(a // b)  # 出力: 1\n",
    "# 剰余\n",
    "print(a % b)  # 出力: 2\n",
    "# 累乗\n",
    "print(a ** b)  # 出力: 125"
   ]
  },
  {
   "cell_type": "markdown",
   "metadata": {},
   "source": [
    "3. 比較演算子"
   ]
  },
  {
   "cell_type": "code",
   "execution_count": null,
   "metadata": {},
   "outputs": [],
   "source": [
    "x = 5\n",
    "y = 10\n",
    "\n",
    "# 比較演算子の例\n",
    "print(\"x < y:\",  x < y)   # x は y より小さい  : True\n",
    "print(\"x <= y:\", x <= y)  # x は y 以下       : True\n",
    "print(\"x > y:\",  x > y)   # x は y より大きい  : False\n",
    "print(\"x >= y:\", x >= y)  # x は y 以上       : False\n",
    "print(\"x == y:\", x == y)  # x と y は等しい    : False\n",
    "print(\"x != y:\", x != y)  # x と y は等しくない : True"
   ]
  },
  {
   "cell_type": "markdown",
   "metadata": {},
   "source": [
    "4. 論理演算子"
   ]
  },
  {
   "cell_type": "code",
   "execution_count": null,
   "metadata": {},
   "outputs": [],
   "source": [
    "# or の例\n",
    "print(True or False)   # 出力: True\n",
    "print(False or False)  # 出力: False\n",
    "\n",
    "# and の例\n",
    "print(True and False)  # 出力: False\n",
    "print(True and True)   # 出力: True\n",
    "\n",
    "# and と or の組み合わせ\n",
    "print(True or (False and True))  # 出力: True\n",
    "print((True or False) and False) # 出力: False"
   ]
  },
  {
   "cell_type": "markdown",
   "metadata": {},
   "source": [
    "5. 制御構造"
   ]
  },
  {
   "cell_type": "code",
   "execution_count": null,
   "metadata": {},
   "outputs": [],
   "source": [
    "# 条件式\n",
    "a = 5\n",
    "b = 3\n",
    "\n",
    "if a > b:\n",
    "    print(\"a is greater than b\")\n",
    "elif a < b:\n",
    "    print(\"a is less than b\")\n",
    "else:\n",
    "    print(\"a is equal to b\")\n",
    "\n",
    "# for文(繰り返し処理)\n",
    "for i in range(5):\n",
    "    print(i)\n",
    "\n",
    "# while文 条件が真の間、繰り返し処理を行う\n",
    "i = 0\n",
    "while i < 5:\n",
    "    print(i)\n",
    "    i += 1"
   ]
  },
  {
   "cell_type": "markdown",
   "metadata": {},
   "source": [
    "6. 関数の定義と使用"
   ]
  },
  {
   "cell_type": "code",
   "execution_count": null,
   "metadata": {},
   "outputs": [],
   "source": [
    "# 関数の定義\n",
    "def f(x: int) -> int:\n",
    "\ta, b, c = 1, 2, 3\n",
    "\tanswer = a*x**2 + b*x + c\n",
    "\treturn answer\n",
    "\n",
    "# 関数の呼び出し\n",
    "f_answer = f(x=2)\n",
    "print(f_answer) # 11"
   ]
  },
  {
   "cell_type": "code",
   "execution_count": null,
   "metadata": {},
   "outputs": [],
   "source": [
    "# 関数の定義\n",
    "def g(x: int, y: int) -> int:\n",
    "    answer = x**2 + y**2\n",
    "    return answer\n",
    "\n",
    "# 関数の呼び出し\n",
    "g_answer = g(x=3, y=4)\n",
    "print(g_answer) # 25"
   ]
  },
  {
   "cell_type": "code",
   "execution_count": null,
   "metadata": {},
   "outputs": [],
   "source": [
    "# 戻り値を返さない関数\n",
    "def greet(name):\n",
    "    print(f\"Hello, {name}!\")\n",
    "    \n",
    "# 関数を呼び出す\n",
    "greet(\"Alice\")  # 出力: Hello, Alice!"
   ]
  },
  {
   "cell_type": "code",
   "execution_count": null,
   "metadata": {},
   "outputs": [],
   "source": [
    "# 複数の戻り値を持つ関数\n",
    "# 足し算、引き算、掛け算、割り算の結果を返す\n",
    "def calculate(a, b):\n",
    "    addition = a + b\n",
    "    subtraction = a - b\n",
    "    multiplication = a * b\n",
    "    division = a / b if b != 0 else None  # 0で割らないようにする\n",
    "    return addition, subtraction, multiplication, division\n",
    "\n",
    "# 関数を呼び出し\n",
    "add, sub, mul, div = calculate(10, 5)\n",
    "\n",
    "# 結果を表示\n",
    "print(f\"足し算: {add}, 引き算: {sub}, 掛け算: {mul}, 割り算: {div}\")"
   ]
  },
  {
   "cell_type": "markdown",
   "metadata": {},
   "source": [
    "7. クラス定義"
   ]
  },
  {
   "cell_type": "code",
   "execution_count": null,
   "metadata": {},
   "outputs": [],
   "source": [
    "# クラスの定義\n",
    "class Car:\n",
    "    # コンストラクタ: オブジェクトを生成するときの初期化する特別なメソッド\n",
    "    def __init__(self, color, speed=0):\n",
    "        self.color = color  # 属性: 色\n",
    "        self.speed = speed  # 属性: 速度\n",
    "\n",
    "    # メソッド: 加速する\n",
    "    def accelerate(self, amount):\n",
    "        self.speed += amount\n",
    "        print(f\"The car accelerates. New speed: {self.speed} km/h\")\n",
    "\n",
    "    # メソッド: ブレーキをかける\n",
    "    def brake(self, amount):\n",
    "        self.speed -= amount\n",
    "        if self.speed < 0:\n",
    "            self.speed = 0\n",
    "        print(f\"The car slows down. New speed: {self.speed} km/h\")\n",
    "        \n",
    "# オブジェクトの生成\n",
    "my_car = Car(\"red\")  # 赤い車を作成\n",
    "print(my_car.color)  # red\n",
    "\n",
    "# メソッドの呼び出し\n",
    "my_car.accelerate(30)  # The car accelerates. New speed: 30 km/h\n",
    "my_car.brake(10)       # The car slows down. New speed: 20 km/h"
   ]
  }
 ],
 "metadata": {
  "kernelspec": {
   "display_name": ".venv",
   "language": "python",
   "name": "python3"
  },
  "language_info": {
   "codemirror_mode": {
    "name": "ipython",
    "version": 3
   },
   "file_extension": ".py",
   "mimetype": "text/x-python",
   "name": "python",
   "nbconvert_exporter": "python",
   "pygments_lexer": "ipython3",
   "version": "3.9.6"
  }
 },
 "nbformat": 4,
 "nbformat_minor": 2
}
